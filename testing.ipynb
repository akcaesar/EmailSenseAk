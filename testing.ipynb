{
 "cells": [
  {
   "cell_type": "code",
   "execution_count": 1,
   "metadata": {},
   "outputs": [],
   "source": [
    "from components.email_df import email_df_mod"
   ]
  },
  {
   "cell_type": "code",
   "execution_count": null,
   "metadata": {},
   "outputs": [
    {
     "data": {
      "text/plain": [
       "0    Sun, 16 Mar 2025 05:32:12 +0000\n",
       "1    Sun, 16 Mar 2025 05:32:13 +0000\n",
       "2    Sun, 16 Mar 2025 09:07:08 +0000\n",
       "Name: Date, dtype: object"
      ]
     },
     "execution_count": 2,
     "metadata": {},
     "output_type": "execute_result"
    }
   ],
   "source": [
    "email_df_mod[\"Date\"]a"
   ]
  },
  {
   "cell_type": "code",
   "execution_count": 3,
   "metadata": {},
   "outputs": [],
   "source": [
    "import pandas as pd"
   ]
  },
  {
   "cell_type": "code",
   "execution_count": 4,
   "metadata": {},
   "outputs": [
    {
     "name": "stdout",
     "output_type": "stream",
     "text": [
      "                                                From  \\\n",
      "0  \"Emma Jacobs from Stepstone\" <info@jobagent.st...   \n",
      "1  \"Emma Jacobs from Stepstone\" <info@jobagent.st...   \n",
      "2  =?UTF-8?B?U2FyYWggQnV0Y2hlcg==?= <emails@email...   \n",
      "\n",
      "                                             Subject  \\\n",
      "0  =?utf-8?B?SG9ydsOhdGggYW5kIDggb3RoZXIgY29tcGFu...   \n",
      "1  secrypt GmbH and 14 other companies are lookin...   \n",
      "2  =?UTF-8?B?4piVIFN1bmRheSAnU3ByZXNzbzogQWxsIG91...   \n",
      "\n",
      "                                                Body        date      time  \\\n",
      "0  Check out your latest matches...\\n------------...  2025-03-16  05:32:12   \n",
      "1  Check out your latest matches...\\n------------...  2025-03-16  05:32:13   \n",
      "2  <!doctype html>\\r\\n<html lang=\"en\" xmlns=\"http...  2025-03-16  09:07:08   \n",
      "\n",
      "      day  \n",
      "0  Sunday  \n",
      "1  Sunday  \n",
      "2  Sunday  \n"
     ]
    }
   ],
   "source": [
    "# Convert the 'Date' column to datetime\n",
    "email_df_mod['Date'] = pd.to_datetime(email_df_mod['Date'], format='%a, %d %b %Y %H:%M:%S %z')\n",
    "\n",
    "# Extract date, time, and day\n",
    "email_df_mod['date'] = email_df_mod['Date'].dt.date\n",
    "email_df_mod['time'] = email_df_mod['Date'].dt.time\n",
    "email_df_mod['day'] = email_df_mod['Date'].dt.day_name()\n",
    "\n",
    "# Drop the original 'Date' column if no longer needed\n",
    "email_df_mod = email_df_mod.drop(columns=['Date'])\n",
    "\n",
    "print(email_df_mod)"
   ]
  },
  {
   "cell_type": "code",
   "execution_count": 5,
   "metadata": {},
   "outputs": [
    {
     "data": {
      "text/html": [
       "<div>\n",
       "<style scoped>\n",
       "    .dataframe tbody tr th:only-of-type {\n",
       "        vertical-align: middle;\n",
       "    }\n",
       "\n",
       "    .dataframe tbody tr th {\n",
       "        vertical-align: top;\n",
       "    }\n",
       "\n",
       "    .dataframe thead th {\n",
       "        text-align: right;\n",
       "    }\n",
       "</style>\n",
       "<table border=\"1\" class=\"dataframe\">\n",
       "  <thead>\n",
       "    <tr style=\"text-align: right;\">\n",
       "      <th></th>\n",
       "      <th>From</th>\n",
       "      <th>Subject</th>\n",
       "      <th>Body</th>\n",
       "      <th>date</th>\n",
       "      <th>time</th>\n",
       "      <th>day</th>\n",
       "    </tr>\n",
       "  </thead>\n",
       "  <tbody>\n",
       "    <tr>\n",
       "      <th>0</th>\n",
       "      <td>\"Emma Jacobs from Stepstone\" &lt;info@jobagent.st...</td>\n",
       "      <td>=?utf-8?B?SG9ydsOhdGggYW5kIDggb3RoZXIgY29tcGFu...</td>\n",
       "      <td>Check out your latest matches...\\n------------...</td>\n",
       "      <td>2025-03-16</td>\n",
       "      <td>05:32:12</td>\n",
       "      <td>Sunday</td>\n",
       "    </tr>\n",
       "    <tr>\n",
       "      <th>1</th>\n",
       "      <td>\"Emma Jacobs from Stepstone\" &lt;info@jobagent.st...</td>\n",
       "      <td>secrypt GmbH and 14 other companies are lookin...</td>\n",
       "      <td>Check out your latest matches...\\n------------...</td>\n",
       "      <td>2025-03-16</td>\n",
       "      <td>05:32:13</td>\n",
       "      <td>Sunday</td>\n",
       "    </tr>\n",
       "    <tr>\n",
       "      <th>2</th>\n",
       "      <td>=?UTF-8?B?U2FyYWggQnV0Y2hlcg==?= &lt;emails@email...</td>\n",
       "      <td>=?UTF-8?B?4piVIFN1bmRheSAnU3ByZXNzbzogQWxsIG91...</td>\n",
       "      <td>&lt;!doctype html&gt;\\r\\n&lt;html lang=\"en\" xmlns=\"http...</td>\n",
       "      <td>2025-03-16</td>\n",
       "      <td>09:07:08</td>\n",
       "      <td>Sunday</td>\n",
       "    </tr>\n",
       "  </tbody>\n",
       "</table>\n",
       "</div>"
      ],
      "text/plain": [
       "                                                From  \\\n",
       "0  \"Emma Jacobs from Stepstone\" <info@jobagent.st...   \n",
       "1  \"Emma Jacobs from Stepstone\" <info@jobagent.st...   \n",
       "2  =?UTF-8?B?U2FyYWggQnV0Y2hlcg==?= <emails@email...   \n",
       "\n",
       "                                             Subject  \\\n",
       "0  =?utf-8?B?SG9ydsOhdGggYW5kIDggb3RoZXIgY29tcGFu...   \n",
       "1  secrypt GmbH and 14 other companies are lookin...   \n",
       "2  =?UTF-8?B?4piVIFN1bmRheSAnU3ByZXNzbzogQWxsIG91...   \n",
       "\n",
       "                                                Body        date      time  \\\n",
       "0  Check out your latest matches...\\n------------...  2025-03-16  05:32:12   \n",
       "1  Check out your latest matches...\\n------------...  2025-03-16  05:32:13   \n",
       "2  <!doctype html>\\r\\n<html lang=\"en\" xmlns=\"http...  2025-03-16  09:07:08   \n",
       "\n",
       "      day  \n",
       "0  Sunday  \n",
       "1  Sunday  \n",
       "2  Sunday  "
      ]
     },
     "execution_count": 5,
     "metadata": {},
     "output_type": "execute_result"
    }
   ],
   "source": [
    "email_df_mod"
   ]
  },
  {
   "cell_type": "code",
   "execution_count": null,
   "metadata": {},
   "outputs": [],
   "source": []
  }
 ],
 "metadata": {
  "kernelspec": {
   "display_name": "emailenv",
   "language": "python",
   "name": "python3"
  },
  "language_info": {
   "codemirror_mode": {
    "name": "ipython",
    "version": 3
   },
   "file_extension": ".py",
   "mimetype": "text/x-python",
   "name": "python",
   "nbconvert_exporter": "python",
   "pygments_lexer": "ipython3",
   "version": "3.13.2"
  }
 },
 "nbformat": 4,
 "nbformat_minor": 2
}
